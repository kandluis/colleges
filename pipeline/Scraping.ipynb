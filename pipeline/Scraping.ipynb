{
 "cells": [
  {
   "cell_type": "code",
   "execution_count": 1,
   "metadata": {
    "collapsed": true
   },
   "outputs": [],
   "source": [
    "import urllib\n",
    "from bs4 import BeautifulSoup\n",
    "import pandas as pd\n",
    "import re"
   ]
  },
  {
   "cell_type": "code",
   "execution_count": 56,
   "metadata": {
    "collapsed": true
   },
   "outputs": [],
   "source": [
    "pd.options.mode.chained_assignment = None"
   ]
  },
  {
   "cell_type": "code",
   "execution_count": 70,
   "metadata": {
    "collapsed": true
   },
   "outputs": [],
   "source": [
    "def process_raw_links(tags):\n",
    "    links = []\n",
    "    for tag in tags:\n",
    "        links.append((str(tag.string), \"http://www.collegesimply.com/guides/admission-data/\" + tag['href']))\n",
    "    data = pd.DataFrame.from_records(links, columns=['School', 'Link'])\n",
    "    return data  "
   ]
  },
  {
   "cell_type": "code",
   "execution_count": 82,
   "metadata": {
    "collapsed": true
   },
   "outputs": [],
   "source": [
    "def write_out_school_ids(links):\n",
    "    '''\n",
    "    Given the data frame of all links scraped from collegesimply.com, generate\n",
    "    a CSV mapping names to ids to uniquely identify schools.\n",
    "    '''\n",
    "    school_ids = pd.DataFrame(data=links['School'])\n",
    "    school_ids['id'] = range(len(school_ids))\n",
    "    school_ids.to_csv(\"school_ids.csv\", index=False)\n",
    "    return school_ids"
   ]
  },
  {
   "cell_type": "code",
   "execution_count": 131,
   "metadata": {
    "collapsed": true
   },
   "outputs": [],
   "source": [
    "def create_school_id_map():\n",
    "    school_ids = pd.read_csv('school_ids.csv', index_col=False)\n",
    "    return {row.School: row.id for _, row in school_ids.iterrows()}"
   ]
  },
  {
   "cell_type": "code",
   "execution_count": 140,
   "metadata": {
    "collapsed": true
   },
   "outputs": [],
   "source": [
    "def get_stats_from_college_simply(ids):\n",
    "    college_simply_url = \"http://www.collegesimply.com/guides/admission-data/\"\n",
    "    updated_stats = pd.read_html(college_simply_url, attrs={'id': 'applicationData'})[0]\n",
    "    # Remove extra whitespace from some of the items.\n",
    "    updated_stats['School'] = updated_stats['School'].apply(lambda s: ' '.join(s.split()))\n",
    "    updated_stats['ID'] = updated_stats['School'].apply(lambda key: ids[key])\n",
    "    return updated_stats"
   ]
  },
  {
   "cell_type": "code",
   "execution_count": 141,
   "metadata": {
    "collapsed": true
   },
   "outputs": [],
   "source": [
    "def get_links_from_college_simply(ids):\n",
    "    # Scrape links\n",
    "    html = urllib.request.urlopen(urllib.request.Request(college_simply_url))\n",
    "    soup = BeautifulSoup(html, 'html.parser')\n",
    "    raw_links = process_raw_links(soup.find_all('a', href=re.compile('^/college')))\n",
    "    # Clean some extra columns.\n",
    "    links = raw_links[(raw_links['School'] != 'By State') & (raw_links['School'] != 'Find Colleges Nearby')]\n",
    "    # Remove extra whitespace from some of the items.\n",
    "    links['School'] = links['School'].apply(lambda s: ' '.join(s.split()))\n",
    "    links['ID'] = links['School'].apply(lambda key: ids[key])\n",
    "    return links"
   ]
  },
  {
   "cell_type": "code",
   "execution_count": 156,
   "metadata": {
    "collapsed": true
   },
   "outputs": [],
   "source": [
    "def get_full_stats_from_college_simply(ids):\n",
    "    stats = get_stats_from_college_simply(ids)\n",
    "    links = get_links_from_college_simply(ids)\n",
    "    res = stats.merge(links, on='ID')\n",
    "    assert (res['School_x'] == res['School_y']).all()\n",
    "    res['School'] = res['School_y']\n",
    "    del res['School_x']\n",
    "    del res['School_y']\n",
    "    return res"
   ]
  },
  {
   "cell_type": "code",
   "execution_count": 238,
   "metadata": {
    "collapsed": true
   },
   "outputs": [],
   "source": [
    "def add_ranking_data(ids, data):\n",
    "    rankings = pd.read_csv('college_stats.csv')\n",
    "    rankings['College/University'] = rankings['College/University'].apply(lambda s: ' '.join(s.split()))\n",
    "    # Filter out ranked data for which we have no school ids.\n",
    "    rankings = rankings[rankings['College/University'].apply(lambda key: key in ids)]\n",
    "    rankings['ID'] = rankings['College/University'].apply(lambda key: ids[key])\n",
    "    res = data.merge(rankings, on='ID', how='outer')\n",
    "    # Assume College/University is redundant\n",
    "    del res['College/University']\n",
    "    # Reorder columns\n",
    "    cols = [\"ID\",\"School\",\"School Type\",\"Region\",\"US World Ranking\",\n",
    "            \"Acceptance Rate\",\"Average GPA\",\n",
    "            \"New EBRW 25th\",\"New EBRW 75th\",\"New Math 25th\",\"New Math 75th\",\n",
    "            \"SAT Total 25th\",\"SAT TOTAL 75th\",\"SAT 25\",\"SAT 75\",\n",
    "            \"ACT 25\",\"ACT 75\",\"ACT Comp 25th\",\"ACT Comp 75th\",\n",
    "            \"Test Optional or Test Flexible\", \"State\",\"Link\"]\n",
    "    import re\n",
    "    non_decimal = re.compile(r'[^\\d.]+')\n",
    "    res['Acceptance Rate'] = res['Acceptance Rate'].apply(lambda x: float(non_decimal.sub('', x)) / 100)\n",
    "    return res[cols].sort_values(['Acceptance Rate'])"
   ]
  },
  {
   "cell_type": "code",
   "execution_count": 164,
   "metadata": {
    "collapsed": true
   },
   "outputs": [],
   "source": [
    "schools = create_school_id_map()"
   ]
  },
  {
   "cell_type": "code",
   "execution_count": 158,
   "metadata": {
    "collapsed": true
   },
   "outputs": [],
   "source": [
    "college_simply = get_full_stats_from_college_simply(schools)"
   ]
  },
  {
   "cell_type": "code",
   "execution_count": 239,
   "metadata": {
    "collapsed": true
   },
   "outputs": [],
   "source": [
    "total_set = add_ranking_data(schools, college_simply)"
   ]
  },
  {
   "cell_type": "code",
   "execution_count": 241,
   "metadata": {
    "collapsed": true
   },
   "outputs": [],
   "source": [
    "total_set.to_csv('final_rankings.csv', index=False)"
   ]
  },
  {
   "cell_type": "code",
   "execution_count": null,
   "metadata": {
    "collapsed": true
   },
   "outputs": [],
   "source": []
  }
 ],
 "metadata": {
  "kernelspec": {
   "display_name": "Python 3",
   "language": "python",
   "name": "python3"
  },
  "language_info": {
   "codemirror_mode": {
    "name": "ipython",
    "version": 3
   },
   "file_extension": ".py",
   "mimetype": "text/x-python",
   "name": "python",
   "nbconvert_exporter": "python",
   "pygments_lexer": "ipython3",
   "version": "3.6.1"
  }
 },
 "nbformat": 4,
 "nbformat_minor": 2
}
